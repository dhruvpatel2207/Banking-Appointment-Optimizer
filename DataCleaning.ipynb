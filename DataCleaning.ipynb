{
 "cells": [
  {
   "cell_type": "code",
   "execution_count": 1,
   "metadata": {},
   "outputs": [
    {
     "name": "stdout",
     "output_type": "stream",
     "text": [
      "            Name  Patient_ID  Age  Gender Blood Type Medical Condition  \\\n",
      "0  Bobby JacksOn        3806   30    Male         B-            Cancer   \n",
      "1   LesLie TErRy        9908   62    Male         A+           Obesity   \n",
      "2    DaNnY sMitH        9616   76  Female         A-           Obesity   \n",
      "3   andrEw waTtS        2824   28  Female         O+          Diabetes   \n",
      "4  adrIENNE bEll        4295   43  Female        AB+            Cancer   \n",
      "\n",
      "  Admission Type   Medication  Test Results Admission Date Discharge Date  \\\n",
      "0         Urgent  Paracetamol        Normal     01-12-2024     16-12-2025   \n",
      "1      Emergency    Ibuprofen  Inconclusive     12-12-2024     27-12-2024   \n",
      "2      Emergency      Aspirin        Normal     22-09-2022     22-09-2022   \n",
      "3       Elective    Ibuprofen      Abnormal     18-11-2020     18-11-2020   \n",
      "4         Urgent   Penicillin      Abnormal     19-09-2022     21-09-2022   \n",
      "\n",
      "  Scheduled Date                    Hospital  Billing Amount  \\\n",
      "0     16-01-2025             Sons and Miller            6950   \n",
      "1     12-01-2025                     Kim Inc            3381   \n",
      "2     07-10-2022                    Cook PLC            5420   \n",
      "3     18-12-2020  Hernandez Rogers and Vang,            9399   \n",
      "4     21-10-2022                 White-White             857   \n",
      "\n",
      "                Email  Contact Number  \n",
      "0     bobby@gmail.com      4974524072  \n",
      "1    leslie@gmail.com      4418773194  \n",
      "2     danny@gmail.com      3150230954  \n",
      "3    andrew@gmail.com      8815484714  \n",
      "4  adrienne@gmail.com      9913512845  \n",
      "<class 'pandas.core.frame.DataFrame'>\n",
      "RangeIndex: 2110 entries, 0 to 2109\n",
      "Data columns (total 16 columns):\n",
      " #   Column             Non-Null Count  Dtype \n",
      "---  ------             --------------  ----- \n",
      " 0   Name               2110 non-null   object\n",
      " 1   Patient_ID         2110 non-null   int64 \n",
      " 2   Age                2110 non-null   int64 \n",
      " 3   Gender             2110 non-null   object\n",
      " 4   Blood Type         2110 non-null   object\n",
      " 5   Medical Condition  2110 non-null   object\n",
      " 6   Admission Type     2110 non-null   object\n",
      " 7   Medication         2110 non-null   object\n",
      " 8   Test Results       2110 non-null   object\n",
      " 9   Admission Date     2110 non-null   object\n",
      " 10  Discharge Date     2110 non-null   object\n",
      " 11  Scheduled Date     2110 non-null   object\n",
      " 12  Hospital           2110 non-null   object\n",
      " 13  Billing Amount     2110 non-null   int64 \n",
      " 14  Email              2110 non-null   object\n",
      " 15  Contact Number     2110 non-null   int64 \n",
      "dtypes: int64(4), object(12)\n",
      "memory usage: 263.9+ KB\n",
      "None\n"
     ]
    }
   ],
   "source": [
    "import pandas as pd\n",
    "\n",
    "# Correctly format the file path\n",
    "file_path = \"C:\\\\Users\\\\user\\\\Desktop\\\\Healthcare\\\\healthcare dataset.csv\"\n",
    "\n",
    "# Load the dataset\n",
    "data = pd.read_csv(file_path)\n",
    "\n",
    "# Display the first few rows and dataset info\n",
    "print(data.head())\n",
    "print(data.info())\n"
   ]
  },
  {
   "cell_type": "code",
   "execution_count": 2,
   "metadata": {},
   "outputs": [
    {
     "name": "stdout",
     "output_type": "stream",
     "text": [
      "<class 'pandas.core.frame.DataFrame'>\n",
      "RangeIndex: 2110 entries, 0 to 2109\n",
      "Data columns (total 16 columns):\n",
      " #   Column             Non-Null Count  Dtype \n",
      "---  ------             --------------  ----- \n",
      " 0   Name               2110 non-null   object\n",
      " 1   Patient_ID         2110 non-null   int64 \n",
      " 2   Age                2110 non-null   int64 \n",
      " 3   Gender             2110 non-null   object\n",
      " 4   Blood Type         2110 non-null   object\n",
      " 5   Medical Condition  2110 non-null   object\n",
      " 6   Admission Type     2110 non-null   object\n",
      " 7   Medication         2110 non-null   object\n",
      " 8   Test Results       2110 non-null   object\n",
      " 9   Admission Date     2110 non-null   object\n",
      " 10  Discharge Date     2110 non-null   object\n",
      " 11  Scheduled Date     2110 non-null   object\n",
      " 12  Hospital           2110 non-null   object\n",
      " 13  Billing Amount     2110 non-null   int64 \n",
      " 14  Email              2110 non-null   object\n",
      " 15  Contact Number     2110 non-null   int64 \n",
      "dtypes: int64(4), object(12)\n",
      "memory usage: 263.9+ KB\n",
      "None\n",
      "        Patient_ID          Age  Billing Amount  Contact Number\n",
      "count  2110.000000  2110.000000     2110.000000    2.110000e+03\n",
      "mean   5458.381991    51.874882     7797.382464    5.600509e+09\n",
      "std    2624.364252    19.581503     4134.178069    2.575156e+09\n",
      "min    1003.000000    18.000000      510.000000    1.001130e+09\n",
      "25%    3146.500000    36.000000     4299.500000    3.400764e+09\n",
      "50%    5436.500000    52.000000     7750.500000    5.672449e+09\n",
      "75%    7717.250000    69.000000    11467.500000    7.821893e+09\n",
      "max    9998.000000    85.000000    14994.000000    9.994044e+09\n",
      "Name                 2110\n",
      "Patient_ID           2110\n",
      "Age                    68\n",
      "Gender                  2\n",
      "Blood Type              8\n",
      "Medical Condition       6\n",
      "Admission Type          3\n",
      "Medication              5\n",
      "Test Results            3\n",
      "Admission Date       1251\n",
      "Discharge Date       1253\n",
      "Scheduled Date       1252\n",
      "Hospital             2055\n",
      "Billing Amount       1987\n",
      "Email                 476\n",
      "Contact Number       2110\n",
      "dtype: int64\n"
     ]
    }
   ],
   "source": [
    "# View basic information about the dataset\n",
    "print(data.info())\n",
    "\n",
    "# Summary statistics for numerical columns\n",
    "print(data.describe())\n",
    "\n",
    "# Check unique values in each column\n",
    "print(data.nunique())\n"
   ]
  },
  {
   "cell_type": "code",
   "execution_count": 3,
   "metadata": {},
   "outputs": [
    {
     "name": "stdout",
     "output_type": "stream",
     "text": [
      "Name                 0\n",
      "Patient_ID           0\n",
      "Age                  0\n",
      "Gender               0\n",
      "Blood Type           0\n",
      "Medical Condition    0\n",
      "Admission Type       0\n",
      "Medication           0\n",
      "Test Results         0\n",
      "Admission Date       0\n",
      "Discharge Date       0\n",
      "Scheduled Date       0\n",
      "Hospital             0\n",
      "Billing Amount       0\n",
      "Email                0\n",
      "Contact Number       0\n",
      "dtype: int64\n",
      "0\n"
     ]
    }
   ],
   "source": [
    "# Checking for missing values\n",
    "print(data.isnull().sum())\n",
    "data = data.dropna()\n",
    "\n",
    "# Checking for duplicate rows\n",
    "print(data.duplicated().sum())\n",
    "data = data.drop_duplicates()"
   ]
  },
  {
   "cell_type": "code",
   "execution_count": 4,
   "metadata": {},
   "outputs": [
    {
     "data": {
      "image/png": "[encoded data removed]",
      "text/plain": [
       "<Figure size 800x400 with 1 Axes>"
      ]
     },
     "metadata": {},
     "output_type": "display_data"
    },
    {
     "data": {
      "image/png": "[encoded data removed]",
      "text/plain": [
       "<Figure size 800x400 with 1 Axes>"
      ]
     },
     "metadata": {},
     "output_type": "display_data"
    },
    {
     "name": "stdout",
     "output_type": "stream",
     "text": [
      "Outliers have been handled for the specified columns.\n"
     ]
    }
   ],
   "source": [
    "# Import necessary libraries\n",
    "import matplotlib.pyplot as plt\n",
    "import seaborn as sns\n",
    "\n",
    "# List of numerical columns to process\n",
    "numerical_columns = ['Age', 'Billing Amount']  # Replace with your column names\n",
    "\n",
    "# Iterate over each column to handle outliers\n",
    "for col in numerical_columns:\n",
    "    # Visualize outliers using a boxplot\n",
    "    plt.figure(figsize=(8, 4))\n",
    "    sns.boxplot(data[col])\n",
    "    plt.title(f'Boxplot for {col}')\n",
    "    plt.show()\n",
    "\n",
    "    # Handle outliers using IQR (interquartile range method\n",
    "    q1 = data[col].quantile(0.25)\n",
    "    q3 = data[col].quantile(0.75)\n",
    "    iqr = q3 - q1\n",
    "\n",
    "    # Define lower and upper bounds\n",
    "    lower_bound = q1 - 1.5 * iqr\n",
    "    upper_bound = q3 + 1.5 * iqr\n",
    "\n",
    "    # Filter the dataset to remove outliers\n",
    "    data = data[(data[col] >= lower_bound) & (data[col] <= upper_bound)]\n",
    "\n",
    "# Print a message after processing\n",
    "print(\"Outliers have been handled for the specified columns.\")\n"
   ]
  },
  {
   "cell_type": "code",
   "execution_count": 5,
   "metadata": {},
   "outputs": [
    {
     "name": "stdout",
     "output_type": "stream",
     "text": [
      "Name                 object\n",
      "Patient_ID            int64\n",
      "Age                   int64\n",
      "Gender               object\n",
      "Blood Type           object\n",
      "Medical Condition    object\n",
      "Admission Type       object\n",
      "Medication           object\n",
      "Test Results         object\n",
      "Admission Date       object\n",
      "Discharge Date       object\n",
      "Scheduled Date       object\n",
      "Hospital             object\n",
      "Billing Amount        int64\n",
      "Email                object\n",
      "Contact Number        int64\n",
      "dtype: object\n",
      "<class 'pandas.core.frame.DataFrame'>\n",
      "RangeIndex: 2110 entries, 0 to 2109\n",
      "Data columns (total 16 columns):\n",
      " #   Column             Non-Null Count  Dtype         \n",
      "---  ------             --------------  -----         \n",
      " 0   Name               2110 non-null   object        \n",
      " 1   Patient_ID         2110 non-null   int64         \n",
      " 2   Age                2110 non-null   int64         \n",
      " 3   Gender             2110 non-null   object        \n",
      " 4   Blood Type         2110 non-null   object        \n",
      " 5   Medical Condition  2110 non-null   object        \n",
      " 6   Admission Type     2110 non-null   object        \n",
      " 7   Medication         2110 non-null   object        \n",
      " 8   Test Results       2110 non-null   object        \n",
      " 9   Admission Date     848 non-null    datetime64[ns]\n",
      " 10  Discharge Date     2110 non-null   datetime64[ns]\n",
      " 11  Scheduled Date     2110 non-null   datetime64[ns]\n",
      " 12  Hospital           2110 non-null   object        \n",
      " 13  Billing Amount     2110 non-null   int64         \n",
      " 14  Email              2110 non-null   object        \n",
      " 15  Contact Number     2110 non-null   int64         \n",
      "dtypes: datetime64[ns](3), int64(4), object(9)\n",
      "memory usage: 263.9+ KB\n",
      "None\n"
     ]
    },
    {
     "name": "stderr",
     "output_type": "stream",
     "text": [
      "C:\\Users\\user\\AppData\\Local\\Temp\\ipykernel_13772\\728089669.py:7: UserWarning: Parsing dates in %d-%m-%Y format when dayfirst=False (the default) was specified. Pass `dayfirst=True` or specify a format to silence this warning.\n",
      "  data[col] = pd.to_datetime(data[col], errors='coerce')  # Convert to datetime format, handle invalid parsing with NaT\n",
      "C:\\Users\\user\\AppData\\Local\\Temp\\ipykernel_13772\\728089669.py:7: UserWarning: Parsing dates in %d-%m-%Y format when dayfirst=False (the default) was specified. Pass `dayfirst=True` or specify a format to silence this warning.\n",
      "  data[col] = pd.to_datetime(data[col], errors='coerce')  # Convert to datetime format, handle invalid parsing with NaT\n"
     ]
    }
   ],
   "source": [
    "# Check data types of all columns\n",
    "print(data.dtypes)\n",
    "\n",
    "# Convert multiple date-related columns to datetime format\n",
    "date_columns = ['Admission Date', 'Discharge Date', 'Scheduled Date']  # Replace with actual column names in your dataset\n",
    "for col in date_columns:\n",
    "    data[col] = pd.to_datetime(data[col], errors='coerce')  # Convert to datetime format, handle invalid parsing with NaT\n",
    "\n",
    "# Convert multiple numerical columns to numeric type\n",
    "numeric_columns = ['Age', 'Billing Amount']  # Replace with actual column names in your dataset\n",
    "for col in numeric_columns:\n",
    "    data[col] = pd.to_numeric(data[col], errors='coerce')  # Convert to numeric, handle errors with NaN\n",
    "\n",
    "# Print dataset info after conversions\n",
    "print(data.info())\n"
   ]
  },
  {
   "cell_type": "code",
   "execution_count": 6,
   "metadata": {},
   "outputs": [
    {
     "name": "stdout",
     "output_type": "stream",
     "text": [
      "            Name\n",
      "0  Bobby Jackson\n",
      "1   Leslie Terry\n",
      "2    Danny Smith\n",
      "3   Andrew Watts\n",
      "4  Adrienne Bell\n"
     ]
    }
   ],
   "source": [
    "# Update the Name column to capitalize the first letter of each name\n",
    "data['Name'] = data['Name'].str.title()\n",
    "\n",
    "# Display the first few rows to confirm the changes\n",
    "print(data[['Name']].head())\n"
   ]
  },
  {
   "cell_type": "code",
   "execution_count": 7,
   "metadata": {},
   "outputs": [],
   "source": [
    "data['Length of Stay'] = (data['Discharge Date'] - data['Admission Date']).dt.days\n"
   ]
  },
  {
   "cell_type": "code",
   "execution_count": null,
   "metadata": {},
   "outputs": [
    {
     "name": "stdout",
     "output_type": "stream",
     "text": [
      "Cleaned dataset saved successfully!\n"
     ]
    },
    {
     "ename": "",
     "evalue": "",
     "output_type": "error",
     "traceback": [
      "\u001b[1;31mThe Kernel crashed while executing code in the current cell or a previous cell. \n",
      "\u001b[1;31mPlease review the code in the cell(s) to identify a possible cause of the failure. \n",
      "\u001b[1;31mClick <a href='https://aka.ms/vscodeJupyterKernelCrash'>here</a> for more info. \n",
      "\u001b[1;31mView Jupyter <a href='command:jupyter.viewOutput'>log</a> for further details."
     ]
    }
   ],
   "source": [
    "# Save the cleaned dataset to a new file\n",
    "data.to_csv(\"cleaned_healthcare_dataset.csv\", index=False)\n",
    "print(\"Cleaned dataset saved successfully!\")\n"
   ]
  },
  {
   "cell_type": "code",
   "execution_count": null,
   "metadata": {},
   "outputs": [],
   "source": [
    "import mysql.connector\n",
    "\n",
    "# Connect to the MySQL database\n",
    "db_connection = mysql.connector.connect(\n",
    "    host=\"localhost\",  # Change if using a remote server\n",
    "    user=\"root\",  # Replace with your MySQL username\n",
    "    password=\"702280Dhruvp@\",  # Replace with your MySQL password\n",
    "    database=\"healthcare\"  # Replace with your database name\n",
    ")\n",
    "\n",
    "print(\"Connected to MySQL database\")\n",
    "cursor = db_connection.cursor()\n"
   ]
  },
  {
   "cell_type": "code",
   "execution_count": null,
   "metadata": {},
   "outputs": [],
   "source": [
    "for index, row in data.iterrows():\n",
    "    cursor.execute(\"\"\"\n",
    "        INSERT INTO Patients (Patient_ID, Name, Age, Gender, BloodType)\n",
    "        VALUES (%s, %s, %s, %s, %s)\n",
    "        ON DUPLICATE KEY UPDATE Name=VALUES(Name);\n",
    "    \"\"\", (\n",
    "        row['Patient_ID'], row['Name'], row['Age'], row['Gender'], row['Blood Type']\n",
    "    ))\n",
    "db_connection.commit()\n"
   ]
  },
  {
   "cell_type": "code",
   "execution_count": null,
   "metadata": {},
   "outputs": [],
   "source": [
    "for index, row in data.iterrows():\n",
    "    cursor.execute(\"\"\"\n",
    "        INSERT INTO MedicalConditions (Medical_Condition, Patient_ID, Admission_Type, Medication, Test_Results)\n",
    "        VALUES (%s, %s, %s, %s, %s)\n",
    "    \"\"\", (\n",
    "        row['Medical Condition'],\n",
    "        row['Patient_ID'],\n",
    "        row['Admission Type'],\n",
    "        row['Medication'],\n",
    "        row['Test Results']\n",
    "    ))\n",
    "db_connection.commit()\n"
   ]
  },
  {
   "cell_type": "code",
   "execution_count": null,
   "metadata": {},
   "outputs": [],
   "source": [
    "for index, row in data.iterrows():\n",
    "    cursor.execute(\"\"\"\n",
    "        INSERT INTO Admissions (Admission_Type, Patient_ID, Admission_Date, Discharge_Date, Scheduled_Date, Hospital, Billing_Amount)\n",
    "        VALUES (%s, %s, %s, %s, %s, %s, %s)\n",
    "    \"\"\", (\n",
    "        row['Admission Type'],\n",
    "        row['Patient_ID'],\n",
    "        row['Admission Date'],\n",
    "        row['Discharge Date'],\n",
    "        row['Scheduled Date'],\n",
    "        row['Hospital'],\n",
    "        row['Billing Amount']\n",
    "    ))\n",
    "db_connection.commit()\n"
   ]
  },
  {
   "cell_type": "code",
   "execution_count": null,
   "metadata": {},
   "outputs": [],
   "source": [
    "import seaborn as sns\n",
    "import matplotlib.pyplot as plt\n",
    "\n",
    "# Adjusting plot size\n",
    "plt.figure(figsize=(5, 5))\n",
    "\n",
    "# Count plot for 'Gender' with hue set to 'Gender' (to maintain the same effect as palette)\n",
    "sns.countplot(x='Gender', data=data, hue='Gender', palette='Blues', legend=False)\n",
    "plt.title('Distribution of Gender')  # Title\n",
    "plt.xlabel('Gender')  # X-axis label\n",
    "plt.ylabel('Count')  # Y-axis label\n",
    "plt.xticks(rotation=45)  # Rotate x-axis labels if needed\n",
    "plt.show()\n",
    "\n",
    "# Adjusting plot size for the second plot\n",
    "plt.figure(figsize=(5, 5))\n",
    "\n",
    "# Count plot for 'Admission Type'\n",
    "sns.countplot(x='Admission Type', data=data, hue='Admission Type', palette='Blues', legend=False)\n",
    "plt.title('Distribution of Admission Type')  # Title\n",
    "plt.xlabel('Admission Type')  # X-axis label\n",
    "plt.ylabel('Count')  # Y-axis label\n",
    "plt.xticks(rotation=45)  # Rotate x-axis labels if needed\n",
    "plt.show()\n"
   ]
  },
  {
   "cell_type": "code",
   "execution_count": null,
   "metadata": {},
   "outputs": [],
   "source": [
    "# Count plot for 'Gender' vs 'Admission Type' with labels\n",
    "sns.countplot(x='Gender', hue='Admission Type', data=data)\n",
    "plt.title('Gender vs Admission Type Distribution')  # Title\n",
    "plt.xlabel('Gender')  # X-axis label\n",
    "plt.ylabel('Count')  # Y-axis label\n",
    "plt.show()\n"
   ]
  },
  {
   "cell_type": "code",
   "execution_count": null,
   "metadata": {},
   "outputs": [],
   "source": [
    "import missingno as msno\n",
    "\n",
    "# Visualize missing data\n",
    "msno.bar(data)\n",
    "plt.show()\n"
   ]
  },
  {
   "cell_type": "code",
   "execution_count": null,
   "metadata": {},
   "outputs": [],
   "source": [
    "# One-hot encode categorical columns (e.g., Gender, Admission Type, Medical Condition)\n",
    "data_encoded = pd.get_dummies(data, columns=['Gender', 'Admission Type', 'Medical Condition', 'Blood Type'], drop_first=True)\n",
    "\n",
    "# Display the first few rows of the encoded data\n",
    "print(data_encoded.head())\n"
   ]
  },
  {
   "cell_type": "code",
   "execution_count": null,
   "metadata": {},
   "outputs": [],
   "source": [
    "# Create 'Age Group' based on age ranges\n",
    "data['Age Group'] = pd.cut(data['Age'], bins=[0, 18, 40, 60, 100], labels=['Child', 'Adult', 'Senior', 'Elderly'])\n",
    "\n",
    "# Show the distribution of 'Age Group'\n",
    "sns.countplot(x='Age Group', data=data)\n",
    "plt.title('Age Grouping')\n",
    "plt.show()\n"
   ]
  },
  {
   "cell_type": "code",
   "execution_count": null,
   "metadata": {},
   "outputs": [],
   "source": [
    "# Ensure the date columns are in datetime format\n",
    "data['Admission Date'] = pd.to_datetime(data['Admission Date'])\n",
    "data['Discharge Date'] = pd.to_datetime(data['Discharge Date'])\n",
    "\n",
    "# Calculate length of stay (in days)\n",
    "data['Length of Stay'] = (data['Discharge Date'] - data['Admission Date']).dt.days\n",
    "\n",
    "# Show the distribution of 'Length of Stay'\n",
    "sns.histplot(data['Length of Stay'], bins=30, kde=True)\n",
    "plt.title('Length of Stay')\n",
    "plt.show()\n"
   ]
  },
  {
   "cell_type": "code",
   "execution_count": null,
   "metadata": {},
   "outputs": [],
   "source": [
    "import pandas as pd\n",
    "# Correctly format the file path\n",
    "file_path = \"C:\\\\Users\\\\user\\\\Desktop\\\\Healthcare\\\\healthcare dataset.csv\"\n",
    "\n",
    "# Load the dataset\n",
    "data = pd.read_csv(file_path)\n",
    "df = pd.DataFrame(data)\n",
    "\n",
    "# Assuming you have a DataFrame `df` with the described columns\n",
    "# Convert columns to appropriate datetime format if not already done\n",
    "# Convert Admission Date and Discharge Date to datetime format, specifying the date format\n",
    "df['Admission Date'] = pd.to_datetime(df['Admission Date'], format='%d-%m-%Y')\n",
    "df['Discharge Date'] = pd.to_datetime(df['Discharge Date'], format='%d-%m-%Y')\n",
    "\n",
    "# 1. Length of Stay\n",
    "df['Length of Stay'] = (df['Discharge Date'] - df['Admission Date']).dt.days\n",
    "\n",
    "# 2. Chronic Conditions\n",
    "# Example: Let's assume chronic conditions are indicated in the `Medical Condition` column as a comma-separated string\n",
    "chronic_conditions = ['diabetes', 'hypertension', 'asthma', 'cancer']\n",
    "for condition in chronic_conditions:\n",
    "    df[f'Has_{condition.capitalize()}'] = df['Medical Condition'].str.contains(condition, case=False, na=False).astype(int)\n",
    "\n",
    "# Total Number of Chronic Conditions\n",
    "df['Total Number of Conditions'] = df[['Has_Diabetes', 'Has_Hypertension', 'Has_Asthma', 'Has_Cancer']].sum(axis=1)\n",
    "\n",
    "# 3. Age Group\n",
    "bins = [-float('inf'), 17, 35, 50, 70, float('inf')]\n",
    "labels = ['<18', '18-35', '36-50', '51-70', '>70']\n",
    "df['Age Group'] = pd.cut(df['Age'], bins=bins, labels=labels)\n",
    "\n",
    "# 4. Emergency Admission Flag\n",
    "df['Emergency Admission'] = (df['Admission Type'] == 'Emergency').astype(int)\n",
    "\n",
    "# 5. Previous Readmission\n",
    "# Assuming there is a column `Previous Admissions` that stores past readmissions as a count\n",
    "df['Previous Readmission'] = (df['Patient_ID'].duplicated(keep=False)).astype(int)\n",
    "\n",
    "# Review the new features\n",
    "print(df.head())\n"
   ]
  },
  {
   "cell_type": "code",
   "execution_count": null,
   "metadata": {},
   "outputs": [],
   "source": [
    "import pandas as pd\n",
    "from sklearn.preprocessing import MinMaxScaler, StandardScaler\n",
    "\n",
    "file_path = \"C:\\\\Users\\\\user\\\\Desktop\\\\Healthcare\\\\healthcare dataset.csv\"\n",
    "\n",
    "# Load the dataset\n",
    "data = pd.read_csv(file_path)\n",
    "df = pd.DataFrame(data)\n",
    "\n",
    "### Step 1: Min-Max Scaling\n",
    "# Initialize the Min-Max Scaler\n",
    "min_max_scaler = MinMaxScaler()\n",
    "\n",
    "# Apply Min-Max Scaling to numeric columns\n",
    "numeric_columns = ['Age', 'Billing Amount']\n",
    "df_min_max_scaled = df.copy()\n",
    "df_min_max_scaled[numeric_columns] = min_max_scaler.fit_transform(df[numeric_columns])\n",
    "\n",
    "print(\"Data after Min-Max Scaling:\")\n",
    "print(df_min_max_scaled)\n",
    "\n",
    "### Step 2: Standardization (Z-score normalization)\n",
    "# Initialize the Standard Scaler\n",
    "standard_scaler = StandardScaler()\n",
    "\n",
    "# Apply Standardization to numeric columns\n",
    "df_standard_scaled = df.copy()\n",
    "df_standard_scaled[numeric_columns] = standard_scaler.fit_transform(df[numeric_columns])\n",
    "\n",
    "print(\"\\nData after Standardization (Z-score normalization):\")\n",
    "print(df_standard_scaled)\n"
   ]
  }
 ],
 "metadata": {
  "kernelspec": {
   "display_name": "Python 3",
   "language": "python",
   "name": "python3"
  },
  "language_info": {
   "codemirror_mode": {
    "name": "ipython",
    "version": 3
   },
   "file_extension": ".py",
   "mimetype": "text/x-python",
   "name": "python",
   "nbconvert_exporter": "python",
   "pygments_lexer": "ipython3",
   "version": "3.13.0"
  }
 },
 "nbformat": 4,
 "nbformat_minor": 2
}
